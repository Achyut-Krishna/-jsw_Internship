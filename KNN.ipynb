{
  "cells": [
    {
      "cell_type": "markdown",
      "metadata": {
        "id": "view-in-github",
        "colab_type": "text"
      },
      "source": [
        "<a href=\"https://colab.research.google.com/github/Achyut-Krishna/JSW_Internship/blob/main/KNN.ipynb\" target=\"_parent\"><img src=\"https://colab.research.google.com/assets/colab-badge.svg\" alt=\"Open In Colab\"/></a>"
      ]
    },
    {
      "cell_type": "code",
      "execution_count": null,
      "id": "77e9f8c8",
      "metadata": {
        "id": "77e9f8c8"
      },
      "outputs": [],
      "source": [
        "import pandas as pd"
      ]
    },
    {
      "cell_type": "code",
      "execution_count": null,
      "id": "ba64826a",
      "metadata": {
        "id": "ba64826a"
      },
      "outputs": [],
      "source": [
        "### B50"
      ]
    },
    {
      "cell_type": "code",
      "execution_count": null,
      "id": "35e1fe6b",
      "metadata": {
        "id": "35e1fe6b"
      },
      "outputs": [],
      "source": [
        "df=pd.read_csv(\"data.csv\")"
      ]
    },
    {
      "cell_type": "code",
      "execution_count": null,
      "id": "7565b531",
      "metadata": {
        "id": "7565b531",
        "outputId": "6f81b195-b8d4-4eb6-c9b3-b33ccef5b54c"
      },
      "outputs": [
        {
          "data": {
            "text/html": [
              "<div>\n",
              "<style scoped>\n",
              "    .dataframe tbody tr th:only-of-type {\n",
              "        vertical-align: middle;\n",
              "    }\n",
              "\n",
              "    .dataframe tbody tr th {\n",
              "        vertical-align: top;\n",
              "    }\n",
              "\n",
              "    .dataframe thead th {\n",
              "        text-align: right;\n",
              "    }\n",
              "</style>\n",
              "<table border=\"1\" class=\"dataframe\">\n",
              "  <thead>\n",
              "    <tr style=\"text-align: right;\">\n",
              "      <th></th>\n",
              "      <th>Slab Width</th>\n",
              "      <th>Slab Length</th>\n",
              "      <th>AL</th>\n",
              "      <th>B</th>\n",
              "      <th>C</th>\n",
              "      <th>CA</th>\n",
              "      <th>NB</th>\n",
              "      <th>CR</th>\n",
              "      <th>CU</th>\n",
              "      <th>MN</th>\n",
              "      <th>...</th>\n",
              "      <th>Heating Element Furnace Press</th>\n",
              "      <th>Soaking Zone Press</th>\n",
              "      <th>After Tube Cooling Press</th>\n",
              "      <th>Drying Furnace Press</th>\n",
              "      <th>Rapid Jet Cooling Press</th>\n",
              "      <th>B50</th>\n",
              "      <th>Hardness</th>\n",
              "      <th>Coreloss-Before Aging</th>\n",
              "      <th>Coreloss After Aging</th>\n",
              "      <th>Permeability</th>\n",
              "    </tr>\n",
              "  </thead>\n",
              "  <tbody>\n",
              "    <tr>\n",
              "      <th>0</th>\n",
              "      <td>1265.0</td>\n",
              "      <td>9730.0</td>\n",
              "      <td>0.002</td>\n",
              "      <td>0.0001</td>\n",
              "      <td>0.0012</td>\n",
              "      <td>0.0002</td>\n",
              "      <td>0.0002</td>\n",
              "      <td>0.026</td>\n",
              "      <td>0.006</td>\n",
              "      <td>0.21</td>\n",
              "      <td>...</td>\n",
              "      <td>94.33479</td>\n",
              "      <td>93.19106</td>\n",
              "      <td>93.19106</td>\n",
              "      <td>-6.026</td>\n",
              "      <td>111.2235</td>\n",
              "      <td>1.73</td>\n",
              "      <td>128.0</td>\n",
              "      <td>5.70</td>\n",
              "      <td>5.74</td>\n",
              "      <td>1963.0</td>\n",
              "    </tr>\n",
              "    <tr>\n",
              "      <th>1</th>\n",
              "      <td>1265.0</td>\n",
              "      <td>9730.0</td>\n",
              "      <td>0.001</td>\n",
              "      <td>0.0001</td>\n",
              "      <td>0.0016</td>\n",
              "      <td>0.0001</td>\n",
              "      <td>0.0002</td>\n",
              "      <td>0.031</td>\n",
              "      <td>0.006</td>\n",
              "      <td>0.20</td>\n",
              "      <td>...</td>\n",
              "      <td>93.57465</td>\n",
              "      <td>92.34710</td>\n",
              "      <td>92.34710</td>\n",
              "      <td>-6.324</td>\n",
              "      <td>109.0648</td>\n",
              "      <td>1.73</td>\n",
              "      <td>120.0</td>\n",
              "      <td>5.92</td>\n",
              "      <td>5.92</td>\n",
              "      <td>1921.0</td>\n",
              "    </tr>\n",
              "    <tr>\n",
              "      <th>2</th>\n",
              "      <td>1265.0</td>\n",
              "      <td>7810.0</td>\n",
              "      <td>0.002</td>\n",
              "      <td>0.0001</td>\n",
              "      <td>0.0012</td>\n",
              "      <td>0.0002</td>\n",
              "      <td>0.0002</td>\n",
              "      <td>0.026</td>\n",
              "      <td>0.006</td>\n",
              "      <td>0.21</td>\n",
              "      <td>...</td>\n",
              "      <td>94.71528</td>\n",
              "      <td>93.69179</td>\n",
              "      <td>93.69179</td>\n",
              "      <td>-6.512</td>\n",
              "      <td>109.1558</td>\n",
              "      <td>1.72</td>\n",
              "      <td>124.0</td>\n",
              "      <td>5.15</td>\n",
              "      <td>5.15</td>\n",
              "      <td>1853.0</td>\n",
              "    </tr>\n",
              "    <tr>\n",
              "      <th>3</th>\n",
              "      <td>1265.0</td>\n",
              "      <td>9730.0</td>\n",
              "      <td>0.001</td>\n",
              "      <td>0.0001</td>\n",
              "      <td>0.0016</td>\n",
              "      <td>0.0001</td>\n",
              "      <td>0.0002</td>\n",
              "      <td>0.031</td>\n",
              "      <td>0.006</td>\n",
              "      <td>0.20</td>\n",
              "      <td>...</td>\n",
              "      <td>94.13034</td>\n",
              "      <td>93.19066</td>\n",
              "      <td>93.19066</td>\n",
              "      <td>-6.806</td>\n",
              "      <td>109.6932</td>\n",
              "      <td>1.74</td>\n",
              "      <td>121.0</td>\n",
              "      <td>5.42</td>\n",
              "      <td>5.47</td>\n",
              "      <td>2071.0</td>\n",
              "    </tr>\n",
              "    <tr>\n",
              "      <th>4</th>\n",
              "      <td>1265.0</td>\n",
              "      <td>9730.0</td>\n",
              "      <td>0.001</td>\n",
              "      <td>0.0001</td>\n",
              "      <td>0.0016</td>\n",
              "      <td>0.0001</td>\n",
              "      <td>0.0002</td>\n",
              "      <td>0.031</td>\n",
              "      <td>0.006</td>\n",
              "      <td>0.20</td>\n",
              "      <td>...</td>\n",
              "      <td>94.59740</td>\n",
              "      <td>94.04372</td>\n",
              "      <td>94.04372</td>\n",
              "      <td>-6.831</td>\n",
              "      <td>110.3683</td>\n",
              "      <td>1.72</td>\n",
              "      <td>122.0</td>\n",
              "      <td>5.38</td>\n",
              "      <td>5.40</td>\n",
              "      <td>1747.0</td>\n",
              "    </tr>\n",
              "  </tbody>\n",
              "</table>\n",
              "<p>5 rows × 59 columns</p>\n",
              "</div>"
            ],
            "text/plain": [
              "   Slab Width  Slab Length     AL       B       C      CA      NB     CR  \\\n",
              "0      1265.0       9730.0  0.002  0.0001  0.0012  0.0002  0.0002  0.026   \n",
              "1      1265.0       9730.0  0.001  0.0001  0.0016  0.0001  0.0002  0.031   \n",
              "2      1265.0       7810.0  0.002  0.0001  0.0012  0.0002  0.0002  0.026   \n",
              "3      1265.0       9730.0  0.001  0.0001  0.0016  0.0001  0.0002  0.031   \n",
              "4      1265.0       9730.0  0.001  0.0001  0.0016  0.0001  0.0002  0.031   \n",
              "\n",
              "      CU    MN  ...  Heating Element Furnace Press   Soaking Zone Press  \\\n",
              "0  0.006  0.21  ...                        94.33479            93.19106   \n",
              "1  0.006  0.20  ...                        93.57465            92.34710   \n",
              "2  0.006  0.21  ...                        94.71528            93.69179   \n",
              "3  0.006  0.20  ...                        94.13034            93.19066   \n",
              "4  0.006  0.20  ...                        94.59740            94.04372   \n",
              "\n",
              "   After Tube Cooling Press  Drying Furnace Press  Rapid Jet Cooling Press  \\\n",
              "0                  93.19106                -6.026                 111.2235   \n",
              "1                  92.34710                -6.324                 109.0648   \n",
              "2                  93.69179                -6.512                 109.1558   \n",
              "3                  93.19066                -6.806                 109.6932   \n",
              "4                  94.04372                -6.831                 110.3683   \n",
              "\n",
              "    B50  Hardness  Coreloss-Before Aging  Coreloss After Aging  Permeability  \n",
              "0  1.73     128.0                   5.70                  5.74        1963.0  \n",
              "1  1.73     120.0                   5.92                  5.92        1921.0  \n",
              "2  1.72     124.0                   5.15                  5.15        1853.0  \n",
              "3  1.74     121.0                   5.42                  5.47        2071.0  \n",
              "4  1.72     122.0                   5.38                  5.40        1747.0  \n",
              "\n",
              "[5 rows x 59 columns]"
            ]
          },
          "execution_count": 3,
          "metadata": {},
          "output_type": "execute_result"
        }
      ],
      "source": [
        "df.head(5)"
      ]
    },
    {
      "cell_type": "code",
      "execution_count": null,
      "id": "4d5be909",
      "metadata": {
        "id": "4d5be909",
        "outputId": "fbad3db1-cd09-4c32-888e-d1c88076951a"
      },
      "outputs": [
        {
          "data": {
            "text/plain": [
              "Index(['Slab Width', 'Slab Length', 'AL', 'B', 'C', 'CA', 'NB', 'CR', 'CU',\n",
              "       'MN', 'MO', 'N', 'NI', 'P', 'S', 'SI', 'TI', 'V',\n",
              "       'Reheating Furnace Exit Temp', 'Finishing Temp', 'Coiling Temp',\n",
              "       'FM Exit Thickness', 'Coil Outr Dia', 'Avg line speed', 'weld current',\n",
              "       'weld pressure', 'Reduction Ratio', 'ACL-Thickness', 'ACL-Width',\n",
              "       'ACL-Length', 'Heating Element Furnace Temp', 'Soaking Zone Temp',\n",
              "       'Exit Seal Temp', 'O2 in Heating Element Furnace',\n",
              "       'Heating Element Furnace Dewpoint', 'Baking Furnace Temp',\n",
              "       'Radiant Tube Furnace Dewpoint', 'After Tube Cooling Dewpoint',\n",
              "       'Rapid Jet Cooling Dewpoint', 'Slow Jet Cooling Dewpoint',\n",
              "       'Entry Looper Tension', 'Exit Looper Tension', 'Furnce Entry Tension',\n",
              "       'Furnace Exit Tension', 'Coating Thickness', 'Insulation Resistivity',\n",
              "       'Uncoiler Tension', 'Recoiler Tension', 'Radiant Tube Furnace Press',\n",
              "       'Heating Element Furnace Press ', 'Soaking Zone Press',\n",
              "       'After Tube Cooling Press', 'Drying Furnace Press',\n",
              "       'Rapid Jet Cooling Press', 'B50', 'Hardness', 'Coreloss-Before Aging',\n",
              "       'Coreloss After Aging', 'Permeability'],\n",
              "      dtype='object')"
            ]
          },
          "execution_count": 4,
          "metadata": {},
          "output_type": "execute_result"
        }
      ],
      "source": [
        "df.columns"
      ]
    },
    {
      "cell_type": "code",
      "execution_count": null,
      "id": "7ca5870f",
      "metadata": {
        "id": "7ca5870f"
      },
      "outputs": [],
      "source": [
        "drop_col=['Hardness', 'Coreloss-Before Aging','Coreloss After Aging', 'Permeability']"
      ]
    },
    {
      "cell_type": "code",
      "execution_count": null,
      "id": "17db50f2",
      "metadata": {
        "id": "17db50f2"
      },
      "outputs": [],
      "source": [
        "df=df.drop(columns=drop_col)"
      ]
    },
    {
      "cell_type": "code",
      "execution_count": null,
      "id": "73e8cc18",
      "metadata": {
        "id": "73e8cc18",
        "outputId": "d356cb64-46b4-4bf0-edc6-7d85235177aa"
      },
      "outputs": [
        {
          "data": {
            "text/plain": [
              "Index(['Slab Width', 'Slab Length', 'AL', 'B', 'C', 'CA', 'NB', 'CR', 'CU',\n",
              "       'MN', 'MO', 'N', 'NI', 'P', 'S', 'SI', 'TI', 'V',\n",
              "       'Reheating Furnace Exit Temp', 'Finishing Temp', 'Coiling Temp',\n",
              "       'FM Exit Thickness', 'Coil Outr Dia', 'Avg line speed', 'weld current',\n",
              "       'weld pressure', 'Reduction Ratio', 'ACL-Thickness', 'ACL-Width',\n",
              "       'ACL-Length', 'Heating Element Furnace Temp', 'Soaking Zone Temp',\n",
              "       'Exit Seal Temp', 'O2 in Heating Element Furnace',\n",
              "       'Heating Element Furnace Dewpoint', 'Baking Furnace Temp',\n",
              "       'Radiant Tube Furnace Dewpoint', 'After Tube Cooling Dewpoint',\n",
              "       'Rapid Jet Cooling Dewpoint', 'Slow Jet Cooling Dewpoint',\n",
              "       'Entry Looper Tension', 'Exit Looper Tension', 'Furnce Entry Tension',\n",
              "       'Furnace Exit Tension', 'Coating Thickness', 'Insulation Resistivity',\n",
              "       'Uncoiler Tension', 'Recoiler Tension', 'Radiant Tube Furnace Press',\n",
              "       'Heating Element Furnace Press ', 'Soaking Zone Press',\n",
              "       'After Tube Cooling Press', 'Drying Furnace Press',\n",
              "       'Rapid Jet Cooling Press', 'B50'],\n",
              "      dtype='object')"
            ]
          },
          "execution_count": 7,
          "metadata": {},
          "output_type": "execute_result"
        }
      ],
      "source": [
        "df.columns"
      ]
    },
    {
      "cell_type": "code",
      "execution_count": null,
      "id": "fb0efdff",
      "metadata": {
        "id": "fb0efdff"
      },
      "outputs": [],
      "source": [
        "y=df[['B50']]\n",
        "X=df[['Slab Width', 'Slab Length', 'AL', 'B', 'C', 'CA', 'NB', 'CR', 'CU',\n",
        "       'MN', 'MO', 'N', 'NI', 'P', 'S', 'SI', 'TI', 'V',\n",
        "       'Reheating Furnace Exit Temp', 'Finishing Temp', 'Coiling Temp',\n",
        "       'FM Exit Thickness', 'Coil Outr Dia', 'Avg line speed', 'weld current',\n",
        "       'weld pressure', 'Reduction Ratio', 'ACL-Thickness', 'ACL-Width',\n",
        "       'ACL-Length', 'Heating Element Furnace Temp', 'Soaking Zone Temp',\n",
        "       'Exit Seal Temp', 'O2 in Heating Element Furnace',\n",
        "       'Heating Element Furnace Dewpoint', 'Baking Furnace Temp',\n",
        "       'Radiant Tube Furnace Dewpoint', 'After Tube Cooling Dewpoint',\n",
        "       'Rapid Jet Cooling Dewpoint', 'Slow Jet Cooling Dewpoint',\n",
        "       'Entry Looper Tension', 'Exit Looper Tension', 'Furnce Entry Tension',\n",
        "       'Furnace Exit Tension', 'Coating Thickness', 'Insulation Resistivity',\n",
        "       'Uncoiler Tension', 'Recoiler Tension', 'Radiant Tube Furnace Press',\n",
        "       'Heating Element Furnace Press ', 'Soaking Zone Press',\n",
        "       'After Tube Cooling Press', 'Drying Furnace Press',\n",
        "       'Rapid Jet Cooling Press']]"
      ]
    },
    {
      "cell_type": "code",
      "execution_count": null,
      "id": "6300de7e",
      "metadata": {
        "id": "6300de7e"
      },
      "outputs": [],
      "source": [
        ""
      ]
    },
    {
      "cell_type": "code",
      "execution_count": null,
      "id": "b835aa51",
      "metadata": {
        "id": "b835aa51"
      },
      "outputs": [],
      "source": [
        "from sklearn.model_selection import train_test_split\n",
        "X_train,X_test,y_train,y_test=train_test_split(X,y,test_size=0.2)"
      ]
    },
    {
      "cell_type": "code",
      "execution_count": null,
      "id": "7b091cbc",
      "metadata": {
        "id": "7b091cbc",
        "outputId": "3d7c6683-ace3-4dee-de9d-a9a633400d1d"
      },
      "outputs": [
        {
          "data": {
            "text/plain": [
              "(4176, 54)"
            ]
          },
          "execution_count": 18,
          "metadata": {},
          "output_type": "execute_result"
        }
      ],
      "source": [
        "X_train.shape"
      ]
    },
    {
      "cell_type": "code",
      "execution_count": null,
      "id": "87b27018",
      "metadata": {
        "id": "87b27018",
        "outputId": "3595d715-eb9e-447c-cfe1-87fab026c57a"
      },
      "outputs": [
        {
          "data": {
            "text/plain": [
              "(1045, 54)"
            ]
          },
          "execution_count": 21,
          "metadata": {},
          "output_type": "execute_result"
        }
      ],
      "source": [
        "X_test.shape"
      ]
    },
    {
      "cell_type": "code",
      "execution_count": null,
      "id": "b88db684",
      "metadata": {
        "id": "b88db684",
        "outputId": "cb6524bb-f1bb-4a57-a5fe-d770128514d6"
      },
      "outputs": [
        {
          "data": {
            "text/plain": [
              "(4176, 1)"
            ]
          },
          "execution_count": 22,
          "metadata": {},
          "output_type": "execute_result"
        }
      ],
      "source": [
        "y_train.shape"
      ]
    },
    {
      "cell_type": "code",
      "execution_count": null,
      "id": "f1735b1a",
      "metadata": {
        "id": "f1735b1a",
        "outputId": "311cdbc2-6d93-4733-e4fc-e8dc7a2be436"
      },
      "outputs": [
        {
          "data": {
            "text/plain": [
              "(1045, 1)"
            ]
          },
          "execution_count": 23,
          "metadata": {},
          "output_type": "execute_result"
        }
      ],
      "source": [
        "y_test.shape"
      ]
    },
    {
      "cell_type": "code",
      "execution_count": null,
      "id": "55268072",
      "metadata": {
        "id": "55268072"
      },
      "outputs": [],
      "source": [
        "from sklearn.neighbors import KNeighborsRegressor"
      ]
    },
    {
      "cell_type": "code",
      "execution_count": null,
      "id": "09493200",
      "metadata": {
        "id": "09493200"
      },
      "outputs": [],
      "source": [
        "\n",
        "\n",
        "reg=KNeighborsRegressor(n_neighbors=5)"
      ]
    },
    {
      "cell_type": "code",
      "execution_count": null,
      "id": "e82d9bf9",
      "metadata": {
        "id": "e82d9bf9",
        "outputId": "c9593351-10f7-4a27-c678-af0d8603782c"
      },
      "outputs": [
        {
          "data": {
            "text/plain": [
              "KNeighborsRegressor()"
            ]
          },
          "execution_count": 36,
          "metadata": {},
          "output_type": "execute_result"
        }
      ],
      "source": [
        "reg.fit(X_train,y_train)"
      ]
    },
    {
      "cell_type": "code",
      "execution_count": null,
      "id": "107905e5",
      "metadata": {
        "id": "107905e5",
        "outputId": "10dda29e-fe39-4991-85ea-592c27e10d29"
      },
      "outputs": [
        {
          "data": {
            "text/plain": [
              "0.5631173788820014"
            ]
          },
          "execution_count": 37,
          "metadata": {},
          "output_type": "execute_result"
        }
      ],
      "source": [
        "reg.score(X_test,y_test)"
      ]
    },
    {
      "cell_type": "code",
      "execution_count": null,
      "id": "12294d67",
      "metadata": {
        "id": "12294d67"
      },
      "outputs": [],
      "source": [
        "### Hardness"
      ]
    },
    {
      "cell_type": "code",
      "execution_count": null,
      "id": "ab207393",
      "metadata": {
        "id": "ab207393"
      },
      "outputs": [],
      "source": [
        "df=pd.read_csv(\"data.csv\")"
      ]
    },
    {
      "cell_type": "code",
      "execution_count": null,
      "id": "f85b5026",
      "metadata": {
        "id": "f85b5026",
        "outputId": "07499418-5a59-4e4d-8948-f5c45e04e73e"
      },
      "outputs": [
        {
          "data": {
            "text/plain": [
              "Index(['Slab Width', 'Slab Length', 'AL', 'B', 'C', 'CA', 'NB', 'CR', 'CU',\n",
              "       'MN', 'MO', 'N', 'NI', 'P', 'S', 'SI', 'TI', 'V',\n",
              "       'Reheating Furnace Exit Temp', 'Finishing Temp', 'Coiling Temp',\n",
              "       'FM Exit Thickness', 'Coil Outr Dia', 'Avg line speed', 'weld current',\n",
              "       'weld pressure', 'Reduction Ratio', 'ACL-Thickness', 'ACL-Width',\n",
              "       'ACL-Length', 'Heating Element Furnace Temp', 'Soaking Zone Temp',\n",
              "       'Exit Seal Temp', 'O2 in Heating Element Furnace',\n",
              "       'Heating Element Furnace Dewpoint', 'Baking Furnace Temp',\n",
              "       'Radiant Tube Furnace Dewpoint', 'After Tube Cooling Dewpoint',\n",
              "       'Rapid Jet Cooling Dewpoint', 'Slow Jet Cooling Dewpoint',\n",
              "       'Entry Looper Tension', 'Exit Looper Tension', 'Furnce Entry Tension',\n",
              "       'Furnace Exit Tension', 'Coating Thickness', 'Insulation Resistivity',\n",
              "       'Uncoiler Tension', 'Recoiler Tension', 'Radiant Tube Furnace Press',\n",
              "       'Heating Element Furnace Press ', 'Soaking Zone Press',\n",
              "       'After Tube Cooling Press', 'Drying Furnace Press',\n",
              "       'Rapid Jet Cooling Press', 'B50', 'Hardness', 'Coreloss-Before Aging',\n",
              "       'Coreloss After Aging', 'Permeability'],\n",
              "      dtype='object')"
            ]
          },
          "execution_count": 40,
          "metadata": {},
          "output_type": "execute_result"
        }
      ],
      "source": [
        "df.columns"
      ]
    },
    {
      "cell_type": "code",
      "execution_count": null,
      "id": "4fb12dc6",
      "metadata": {
        "id": "4fb12dc6"
      },
      "outputs": [],
      "source": [
        "X=df[['Slab Width', 'Slab Length', 'AL', 'B', 'C', 'CA', 'NB', 'CR', 'CU',\n",
        "       'MN', 'MO', 'N', 'NI', 'P', 'S', 'SI', 'TI', 'V',\n",
        "       'Reheating Furnace Exit Temp', 'Finishing Temp', 'Coiling Temp',\n",
        "       'FM Exit Thickness', 'Coil Outr Dia', 'Avg line speed', 'weld current',\n",
        "       'weld pressure', 'Reduction Ratio', 'ACL-Thickness', 'ACL-Width',\n",
        "       'ACL-Length', 'Heating Element Furnace Temp', 'Soaking Zone Temp',\n",
        "       'Exit Seal Temp', 'O2 in Heating Element Furnace',\n",
        "       'Heating Element Furnace Dewpoint', 'Baking Furnace Temp',\n",
        "       'Radiant Tube Furnace Dewpoint', 'After Tube Cooling Dewpoint',\n",
        "       'Rapid Jet Cooling Dewpoint', 'Slow Jet Cooling Dewpoint',\n",
        "       'Entry Looper Tension', 'Exit Looper Tension', 'Furnce Entry Tension',\n",
        "       'Furnace Exit Tension', 'Coating Thickness', 'Insulation Resistivity',\n",
        "       'Uncoiler Tension', 'Recoiler Tension', 'Radiant Tube Furnace Press',\n",
        "       'Heating Element Furnace Press ', 'Soaking Zone Press',\n",
        "       'After Tube Cooling Press', 'Drying Furnace Press',\n",
        "       'Rapid Jet Cooling Press']]\n",
        "y=df[['Hardness']]"
      ]
    },
    {
      "cell_type": "code",
      "execution_count": null,
      "id": "fdde3c7d",
      "metadata": {
        "id": "fdde3c7d"
      },
      "outputs": [],
      "source": [
        "from sklearn.model_selection import train_test_split\n",
        "X_train,X_test,y_train,y_test=train_test_split(X,y,test_size=0.2)"
      ]
    },
    {
      "cell_type": "code",
      "execution_count": null,
      "id": "f0d870eb",
      "metadata": {
        "id": "f0d870eb"
      },
      "outputs": [],
      "source": [
        "from sklearn.neighbors import KNeighborsRegressor"
      ]
    },
    {
      "cell_type": "code",
      "execution_count": null,
      "id": "a7699b28",
      "metadata": {
        "id": "a7699b28"
      },
      "outputs": [],
      "source": [
        "reg=KNeighborsRegressor(n_neighbors=5)"
      ]
    },
    {
      "cell_type": "code",
      "execution_count": null,
      "id": "3741d95d",
      "metadata": {
        "id": "3741d95d",
        "outputId": "944335bf-c07f-4207-a5b4-7ee9aa66efb8"
      },
      "outputs": [
        {
          "data": {
            "text/plain": [
              "KNeighborsRegressor()"
            ]
          },
          "execution_count": 45,
          "metadata": {},
          "output_type": "execute_result"
        }
      ],
      "source": [
        "reg.fit(X_train,y_train)"
      ]
    },
    {
      "cell_type": "code",
      "execution_count": null,
      "id": "ea42e259",
      "metadata": {
        "id": "ea42e259",
        "outputId": "c0ba94ac-1ddd-43ae-a93f-1a277556518b"
      },
      "outputs": [
        {
          "data": {
            "text/plain": [
              "0.8217611601432984"
            ]
          },
          "execution_count": 46,
          "metadata": {},
          "output_type": "execute_result"
        }
      ],
      "source": [
        "reg.score(X_test,y_test)"
      ]
    },
    {
      "cell_type": "code",
      "execution_count": null,
      "id": "0383c5ed",
      "metadata": {
        "id": "0383c5ed"
      },
      "outputs": [],
      "source": [
        "### 'Coreloss-Before Aging'"
      ]
    },
    {
      "cell_type": "code",
      "execution_count": null,
      "id": "074ef949",
      "metadata": {
        "id": "074ef949"
      },
      "outputs": [],
      "source": [
        "df=pd.read_csv(\"data.csv\")"
      ]
    },
    {
      "cell_type": "code",
      "execution_count": null,
      "id": "2b2b9397",
      "metadata": {
        "id": "2b2b9397"
      },
      "outputs": [],
      "source": [
        "X=df[['Slab Width', 'Slab Length', 'AL', 'B', 'C', 'CA', 'NB', 'CR', 'CU',\n",
        "       'MN', 'MO', 'N', 'NI', 'P', 'S', 'SI', 'TI', 'V',\n",
        "       'Reheating Furnace Exit Temp', 'Finishing Temp', 'Coiling Temp',\n",
        "       'FM Exit Thickness', 'Coil Outr Dia', 'Avg line speed', 'weld current',\n",
        "       'weld pressure', 'Reduction Ratio', 'ACL-Thickness', 'ACL-Width',\n",
        "       'ACL-Length', 'Heating Element Furnace Temp', 'Soaking Zone Temp',\n",
        "       'Exit Seal Temp', 'O2 in Heating Element Furnace',\n",
        "       'Heating Element Furnace Dewpoint', 'Baking Furnace Temp',\n",
        "       'Radiant Tube Furnace Dewpoint', 'After Tube Cooling Dewpoint',\n",
        "       'Rapid Jet Cooling Dewpoint', 'Slow Jet Cooling Dewpoint',\n",
        "       'Entry Looper Tension', 'Exit Looper Tension', 'Furnce Entry Tension',\n",
        "       'Furnace Exit Tension', 'Coating Thickness', 'Insulation Resistivity',\n",
        "       'Uncoiler Tension', 'Recoiler Tension', 'Radiant Tube Furnace Press',\n",
        "       'Heating Element Furnace Press ', 'Soaking Zone Press',\n",
        "       'After Tube Cooling Press', 'Drying Furnace Press',\n",
        "       'Rapid Jet Cooling Press']]\n",
        "y=df[['Coreloss-Before Aging']]"
      ]
    },
    {
      "cell_type": "code",
      "execution_count": null,
      "id": "8f5f3fff",
      "metadata": {
        "id": "8f5f3fff"
      },
      "outputs": [],
      "source": [
        "from sklearn.model_selection import train_test_split\n",
        "X_train,X_test,y_train,y_test=train_test_split(X,y,test_size=0.2)"
      ]
    },
    {
      "cell_type": "code",
      "execution_count": null,
      "id": "446b40a5",
      "metadata": {
        "id": "446b40a5"
      },
      "outputs": [],
      "source": [
        "from sklearn.neighbors import KNeighborsRegressor"
      ]
    },
    {
      "cell_type": "code",
      "execution_count": null,
      "id": "8607bc17",
      "metadata": {
        "id": "8607bc17"
      },
      "outputs": [],
      "source": [
        "reg=KNeighborsRegressor(n_neighbors=5)"
      ]
    },
    {
      "cell_type": "code",
      "execution_count": null,
      "id": "a4228e40",
      "metadata": {
        "id": "a4228e40",
        "outputId": "5ab3611d-d761-43b9-9ae1-725711640865"
      },
      "outputs": [
        {
          "data": {
            "text/plain": [
              "KNeighborsRegressor()"
            ]
          },
          "execution_count": 53,
          "metadata": {},
          "output_type": "execute_result"
        }
      ],
      "source": [
        "reg.fit(X_train,y_train)"
      ]
    },
    {
      "cell_type": "code",
      "execution_count": null,
      "id": "ea7928b1",
      "metadata": {
        "id": "ea7928b1",
        "outputId": "6e9aca19-5ab5-471d-bc4a-e5a0b0cf90d5"
      },
      "outputs": [
        {
          "data": {
            "text/plain": [
              "0.7949565269633438"
            ]
          },
          "execution_count": 54,
          "metadata": {},
          "output_type": "execute_result"
        }
      ],
      "source": [
        "reg.score(X_test,y_test)"
      ]
    },
    {
      "cell_type": "code",
      "execution_count": null,
      "id": "9061fab1",
      "metadata": {
        "id": "9061fab1"
      },
      "outputs": [],
      "source": [
        "### 'Coreloss After Aging'"
      ]
    },
    {
      "cell_type": "code",
      "execution_count": null,
      "id": "2de98de2",
      "metadata": {
        "id": "2de98de2"
      },
      "outputs": [],
      "source": [
        "df=pd.read_csv(\"data.csv\")"
      ]
    },
    {
      "cell_type": "code",
      "execution_count": null,
      "id": "1a0e5998",
      "metadata": {
        "id": "1a0e5998"
      },
      "outputs": [],
      "source": [
        "X=df[['Slab Width', 'Slab Length', 'AL', 'B', 'C', 'CA', 'NB', 'CR', 'CU',\n",
        "       'MN', 'MO', 'N', 'NI', 'P', 'S', 'SI', 'TI', 'V',\n",
        "       'Reheating Furnace Exit Temp', 'Finishing Temp', 'Coiling Temp',\n",
        "       'FM Exit Thickness', 'Coil Outr Dia', 'Avg line speed', 'weld current',\n",
        "       'weld pressure', 'Reduction Ratio', 'ACL-Thickness', 'ACL-Width',\n",
        "       'ACL-Length', 'Heating Element Furnace Temp', 'Soaking Zone Temp',\n",
        "       'Exit Seal Temp', 'O2 in Heating Element Furnace',\n",
        "       'Heating Element Furnace Dewpoint', 'Baking Furnace Temp',\n",
        "       'Radiant Tube Furnace Dewpoint', 'After Tube Cooling Dewpoint',\n",
        "       'Rapid Jet Cooling Dewpoint', 'Slow Jet Cooling Dewpoint',\n",
        "       'Entry Looper Tension', 'Exit Looper Tension', 'Furnce Entry Tension',\n",
        "       'Furnace Exit Tension', 'Coating Thickness', 'Insulation Resistivity',\n",
        "       'Uncoiler Tension', 'Recoiler Tension', 'Radiant Tube Furnace Press',\n",
        "       'Heating Element Furnace Press ', 'Soaking Zone Press',\n",
        "       'After Tube Cooling Press', 'Drying Furnace Press',\n",
        "       'Rapid Jet Cooling Press']]\n",
        "y=df[['Coreloss After Aging']]"
      ]
    },
    {
      "cell_type": "code",
      "execution_count": null,
      "id": "b24c3198",
      "metadata": {
        "id": "b24c3198"
      },
      "outputs": [],
      "source": [
        "from sklearn.model_selection import train_test_split\n",
        "X_train,X_test,y_train,y_test=train_test_split(X,y,test_size=0.2)"
      ]
    },
    {
      "cell_type": "code",
      "execution_count": null,
      "id": "bdd1b860",
      "metadata": {
        "id": "bdd1b860"
      },
      "outputs": [],
      "source": [
        "from sklearn.neighbors import KNeighborsRegressor"
      ]
    },
    {
      "cell_type": "code",
      "execution_count": null,
      "id": "03968580",
      "metadata": {
        "id": "03968580"
      },
      "outputs": [],
      "source": [
        "reg=KNeighborsRegressor(n_neighbors=5)"
      ]
    },
    {
      "cell_type": "code",
      "execution_count": null,
      "id": "5f034609",
      "metadata": {
        "id": "5f034609",
        "outputId": "6d62d954-af4a-42bc-cc56-ee29f0e73ed0"
      },
      "outputs": [
        {
          "data": {
            "text/plain": [
              "KNeighborsRegressor()"
            ]
          },
          "execution_count": 61,
          "metadata": {},
          "output_type": "execute_result"
        }
      ],
      "source": [
        "reg.fit(X_train,y_train)"
      ]
    },
    {
      "cell_type": "code",
      "execution_count": null,
      "id": "63f09d8f",
      "metadata": {
        "id": "63f09d8f",
        "outputId": "92c6b918-2387-4331-a3fe-7190be6dbcd7"
      },
      "outputs": [
        {
          "data": {
            "text/plain": [
              "0.7816910974685755"
            ]
          },
          "execution_count": 62,
          "metadata": {},
          "output_type": "execute_result"
        }
      ],
      "source": [
        "reg.score(X_test,y_test)"
      ]
    },
    {
      "cell_type": "code",
      "execution_count": null,
      "id": "e61e162c",
      "metadata": {
        "id": "e61e162c"
      },
      "outputs": [],
      "source": [
        "### 'Permeability'"
      ]
    },
    {
      "cell_type": "code",
      "execution_count": null,
      "id": "c331739b",
      "metadata": {
        "id": "c331739b"
      },
      "outputs": [],
      "source": [
        "X=df[['Slab Width', 'Slab Length', 'AL', 'B', 'C', 'CA', 'NB', 'CR', 'CU',\n",
        "       'MN', 'MO', 'N', 'NI', 'P', 'S', 'SI', 'TI', 'V',\n",
        "       'Reheating Furnace Exit Temp', 'Finishing Temp', 'Coiling Temp',\n",
        "       'FM Exit Thickness', 'Coil Outr Dia', 'Avg line speed', 'weld current',\n",
        "       'weld pressure', 'Reduction Ratio', 'ACL-Thickness', 'ACL-Width',\n",
        "       'ACL-Length', 'Heating Element Furnace Temp', 'Soaking Zone Temp',\n",
        "       'Exit Seal Temp', 'O2 in Heating Element Furnace',\n",
        "       'Heating Element Furnace Dewpoint', 'Baking Furnace Temp',\n",
        "       'Radiant Tube Furnace Dewpoint', 'After Tube Cooling Dewpoint',\n",
        "       'Rapid Jet Cooling Dewpoint', 'Slow Jet Cooling Dewpoint',\n",
        "       'Entry Looper Tension', 'Exit Looper Tension', 'Furnce Entry Tension',\n",
        "       'Furnace Exit Tension', 'Coating Thickness', 'Insulation Resistivity',\n",
        "       'Uncoiler Tension', 'Recoiler Tension', 'Radiant Tube Furnace Press',\n",
        "       'Heating Element Furnace Press ', 'Soaking Zone Press',\n",
        "       'After Tube Cooling Press', 'Drying Furnace Press',\n",
        "       'Rapid Jet Cooling Press']]\n",
        "y=df[['Permeability']]"
      ]
    },
    {
      "cell_type": "code",
      "execution_count": null,
      "id": "a5b8ff4b",
      "metadata": {
        "id": "a5b8ff4b"
      },
      "outputs": [],
      "source": [
        "from sklearn.model_selection import train_test_split\n",
        "X_train,X_test,y_train,y_test=train_test_split(X,y,test_size=0.2)"
      ]
    },
    {
      "cell_type": "code",
      "execution_count": null,
      "id": "38435705",
      "metadata": {
        "id": "38435705"
      },
      "outputs": [],
      "source": [
        "from sklearn.neighbors import KNeighborsRegressor"
      ]
    },
    {
      "cell_type": "code",
      "execution_count": null,
      "id": "935dcb32",
      "metadata": {
        "id": "935dcb32"
      },
      "outputs": [],
      "source": [
        "reg=KNeighborsRegressor(n_neighbors=5)"
      ]
    },
    {
      "cell_type": "code",
      "execution_count": null,
      "id": "a6839854",
      "metadata": {
        "id": "a6839854",
        "outputId": "07994c51-86e1-4e0a-d8d2-002c376b4dee"
      },
      "outputs": [
        {
          "data": {
            "text/plain": [
              "KNeighborsRegressor()"
            ]
          },
          "execution_count": 68,
          "metadata": {},
          "output_type": "execute_result"
        }
      ],
      "source": [
        "reg.fit(X_train,y_train)"
      ]
    },
    {
      "cell_type": "code",
      "execution_count": null,
      "id": "0605787e",
      "metadata": {
        "id": "0605787e",
        "outputId": "84798669-7cd4-4530-f652-6492ab82e871"
      },
      "outputs": [
        {
          "data": {
            "text/plain": [
              "0.6012722557103825"
            ]
          },
          "execution_count": 69,
          "metadata": {},
          "output_type": "execute_result"
        }
      ],
      "source": [
        "reg.score(X_test,y_test)"
      ]
    },
    {
      "cell_type": "code",
      "execution_count": null,
      "id": "cfd7e2ae",
      "metadata": {
        "id": "cfd7e2ae",
        "outputId": "f7e98569-593d-47f6-f72a-1d1373496fb0"
      },
      "outputs": [
        {
          "data": {
            "text/plain": [
              "(5221, 59)"
            ]
          },
          "execution_count": 70,
          "metadata": {},
          "output_type": "execute_result"
        }
      ],
      "source": [
        "df.shape"
      ]
    },
    {
      "cell_type": "code",
      "execution_count": null,
      "id": "4a85249f",
      "metadata": {
        "id": "4a85249f",
        "outputId": "e6623930-b6bd-4458-d63d-6d68980471f4"
      },
      "outputs": [
        {
          "data": {
            "text/plain": [
              "(5221, 54)"
            ]
          },
          "execution_count": 72,
          "metadata": {},
          "output_type": "execute_result"
        }
      ],
      "source": [
        "X.shape"
      ]
    },
    {
      "cell_type": "code",
      "execution_count": null,
      "id": "47768385",
      "metadata": {
        "id": "47768385",
        "outputId": "ff4ae207-208c-4564-f6b2-934ecf651f58"
      },
      "outputs": [
        {
          "data": {
            "text/plain": [
              "(4176, 54)"
            ]
          },
          "execution_count": 73,
          "metadata": {},
          "output_type": "execute_result"
        }
      ],
      "source": [
        "X_train.shape"
      ]
    },
    {
      "cell_type": "code",
      "execution_count": null,
      "id": "9cc90c9b",
      "metadata": {
        "id": "9cc90c9b",
        "outputId": "4e3b1229-9852-4911-f3fe-61c9e4025946"
      },
      "outputs": [
        {
          "data": {
            "text/plain": [
              "(1045, 54)"
            ]
          },
          "execution_count": 74,
          "metadata": {},
          "output_type": "execute_result"
        }
      ],
      "source": [
        "X_test.shape"
      ]
    },
    {
      "cell_type": "code",
      "execution_count": null,
      "id": "1c1882f2",
      "metadata": {
        "id": "1c1882f2"
      },
      "outputs": [],
      "source": [
        ""
      ]
    }
  ],
  "metadata": {
    "kernelspec": {
      "display_name": "Python 3",
      "language": "python",
      "name": "python3"
    },
    "language_info": {
      "codemirror_mode": {
        "name": "ipython",
        "version": 3
      },
      "file_extension": ".py",
      "mimetype": "text/x-python",
      "name": "python",
      "nbconvert_exporter": "python",
      "pygments_lexer": "ipython3",
      "version": "3.8.8"
    },
    "colab": {
      "name": "KNN.ipynb",
      "provenance": [],
      "include_colab_link": true
    }
  },
  "nbformat": 4,
  "nbformat_minor": 5
}