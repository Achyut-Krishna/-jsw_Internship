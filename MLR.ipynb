{
  "cells": [
    {
      "cell_type": "markdown",
      "metadata": {
        "id": "view-in-github",
        "colab_type": "text"
      },
      "source": [
        "<a href=\"https://colab.research.google.com/github/Achyut-Krishna/JSW_Internship/blob/main/MLR.ipynb\" target=\"_parent\"><img src=\"https://colab.research.google.com/assets/colab-badge.svg\" alt=\"Open In Colab\"/></a>"
      ]
    },
    {
      "cell_type": "code",
      "execution_count": null,
      "id": "80dacbdc",
      "metadata": {
        "id": "80dacbdc"
      },
      "outputs": [],
      "source": [
        "##Prediction for B50"
      ]
    },
    {
      "cell_type": "code",
      "execution_count": null,
      "id": "1cff9236",
      "metadata": {
        "id": "1cff9236"
      },
      "outputs": [],
      "source": [
        "import pandas as pd\n",
        "import numpy as np\n",
        "from sklearn import linear_model"
      ]
    },
    {
      "cell_type": "code",
      "execution_count": null,
      "id": "d9b21ae6",
      "metadata": {
        "id": "d9b21ae6"
      },
      "outputs": [],
      "source": [
        "df=pd.read_csv(\"final_1.csv\")"
      ]
    },
    {
      "cell_type": "code",
      "execution_count": null,
      "id": "a012c596",
      "metadata": {
        "id": "a012c596",
        "outputId": "866bcbcf-08e8-4e7a-a6e5-225f6a34183c"
      },
      "outputs": [
        {
          "data": {
            "text/html": [
              "<div>\n",
              "<style scoped>\n",
              "    .dataframe tbody tr th:only-of-type {\n",
              "        vertical-align: middle;\n",
              "    }\n",
              "\n",
              "    .dataframe tbody tr th {\n",
              "        vertical-align: top;\n",
              "    }\n",
              "\n",
              "    .dataframe thead th {\n",
              "        text-align: right;\n",
              "    }\n",
              "</style>\n",
              "<table border=\"1\" class=\"dataframe\">\n",
              "  <thead>\n",
              "    <tr style=\"text-align: right;\">\n",
              "      <th></th>\n",
              "      <th>Slab Width</th>\n",
              "      <th>Slab Length</th>\n",
              "      <th>AL</th>\n",
              "      <th>B</th>\n",
              "      <th>C</th>\n",
              "      <th>CA</th>\n",
              "      <th>NB</th>\n",
              "      <th>CR</th>\n",
              "      <th>CU</th>\n",
              "      <th>MN</th>\n",
              "      <th>...</th>\n",
              "      <th>Radiant Tube Furnace Dewpoint</th>\n",
              "      <th>After Tube Cooling Dewpoint</th>\n",
              "      <th>Rapid Jet Cooling Dewpoint</th>\n",
              "      <th>Coating Thickness</th>\n",
              "      <th>Drying Furnace Press</th>\n",
              "      <th>B50</th>\n",
              "      <th>Hardness</th>\n",
              "      <th>Coreloss-Before Aging</th>\n",
              "      <th>Coreloss After Aging</th>\n",
              "      <th>Permeability</th>\n",
              "    </tr>\n",
              "  </thead>\n",
              "  <tbody>\n",
              "    <tr>\n",
              "      <th>0</th>\n",
              "      <td>1265.0</td>\n",
              "      <td>9730.0</td>\n",
              "      <td>0.002</td>\n",
              "      <td>0.0001</td>\n",
              "      <td>0.0012</td>\n",
              "      <td>0.0002</td>\n",
              "      <td>0.0002</td>\n",
              "      <td>0.026</td>\n",
              "      <td>0.006</td>\n",
              "      <td>0.21</td>\n",
              "      <td>...</td>\n",
              "      <td>-18.500</td>\n",
              "      <td>-26.132</td>\n",
              "      <td>-18.20668</td>\n",
              "      <td>1.50</td>\n",
              "      <td>-6.026</td>\n",
              "      <td>1.73</td>\n",
              "      <td>128.0</td>\n",
              "      <td>5.70</td>\n",
              "      <td>5.74</td>\n",
              "      <td>1963.0</td>\n",
              "    </tr>\n",
              "    <tr>\n",
              "      <th>1</th>\n",
              "      <td>1265.0</td>\n",
              "      <td>9730.0</td>\n",
              "      <td>0.001</td>\n",
              "      <td>0.0001</td>\n",
              "      <td>0.0016</td>\n",
              "      <td>0.0001</td>\n",
              "      <td>0.0002</td>\n",
              "      <td>0.031</td>\n",
              "      <td>0.006</td>\n",
              "      <td>0.20</td>\n",
              "      <td>...</td>\n",
              "      <td>-99.000</td>\n",
              "      <td>-99.000</td>\n",
              "      <td>-98.99991</td>\n",
              "      <td>1.55</td>\n",
              "      <td>-6.324</td>\n",
              "      <td>1.73</td>\n",
              "      <td>120.0</td>\n",
              "      <td>5.92</td>\n",
              "      <td>5.92</td>\n",
              "      <td>1921.0</td>\n",
              "    </tr>\n",
              "    <tr>\n",
              "      <th>2</th>\n",
              "      <td>1265.0</td>\n",
              "      <td>7810.0</td>\n",
              "      <td>0.002</td>\n",
              "      <td>0.0001</td>\n",
              "      <td>0.0012</td>\n",
              "      <td>0.0002</td>\n",
              "      <td>0.0002</td>\n",
              "      <td>0.026</td>\n",
              "      <td>0.006</td>\n",
              "      <td>0.21</td>\n",
              "      <td>...</td>\n",
              "      <td>-25.112</td>\n",
              "      <td>-23.253</td>\n",
              "      <td>-12.16960</td>\n",
              "      <td>1.48</td>\n",
              "      <td>-6.512</td>\n",
              "      <td>1.72</td>\n",
              "      <td>124.0</td>\n",
              "      <td>5.15</td>\n",
              "      <td>5.15</td>\n",
              "      <td>1853.0</td>\n",
              "    </tr>\n",
              "    <tr>\n",
              "      <th>3</th>\n",
              "      <td>1265.0</td>\n",
              "      <td>9730.0</td>\n",
              "      <td>0.001</td>\n",
              "      <td>0.0001</td>\n",
              "      <td>0.0016</td>\n",
              "      <td>0.0001</td>\n",
              "      <td>0.0002</td>\n",
              "      <td>0.031</td>\n",
              "      <td>0.006</td>\n",
              "      <td>0.20</td>\n",
              "      <td>...</td>\n",
              "      <td>-23.525</td>\n",
              "      <td>-27.873</td>\n",
              "      <td>-12.54678</td>\n",
              "      <td>1.41</td>\n",
              "      <td>-6.806</td>\n",
              "      <td>1.74</td>\n",
              "      <td>121.0</td>\n",
              "      <td>5.42</td>\n",
              "      <td>5.47</td>\n",
              "      <td>2071.0</td>\n",
              "    </tr>\n",
              "    <tr>\n",
              "      <th>4</th>\n",
              "      <td>1265.0</td>\n",
              "      <td>9730.0</td>\n",
              "      <td>0.001</td>\n",
              "      <td>0.0001</td>\n",
              "      <td>0.0016</td>\n",
              "      <td>0.0001</td>\n",
              "      <td>0.0002</td>\n",
              "      <td>0.031</td>\n",
              "      <td>0.006</td>\n",
              "      <td>0.20</td>\n",
              "      <td>...</td>\n",
              "      <td>-19.758</td>\n",
              "      <td>-25.796</td>\n",
              "      <td>-16.47658</td>\n",
              "      <td>1.37</td>\n",
              "      <td>-6.831</td>\n",
              "      <td>1.72</td>\n",
              "      <td>122.0</td>\n",
              "      <td>5.38</td>\n",
              "      <td>5.40</td>\n",
              "      <td>1747.0</td>\n",
              "    </tr>\n",
              "  </tbody>\n",
              "</table>\n",
              "<p>5 rows × 40 columns</p>\n",
              "</div>"
            ],
            "text/plain": [
              "   Slab Width  Slab Length     AL       B       C      CA      NB     CR  \\\n",
              "0      1265.0       9730.0  0.002  0.0001  0.0012  0.0002  0.0002  0.026   \n",
              "1      1265.0       9730.0  0.001  0.0001  0.0016  0.0001  0.0002  0.031   \n",
              "2      1265.0       7810.0  0.002  0.0001  0.0012  0.0002  0.0002  0.026   \n",
              "3      1265.0       9730.0  0.001  0.0001  0.0016  0.0001  0.0002  0.031   \n",
              "4      1265.0       9730.0  0.001  0.0001  0.0016  0.0001  0.0002  0.031   \n",
              "\n",
              "      CU    MN  ...  Radiant Tube Furnace Dewpoint  \\\n",
              "0  0.006  0.21  ...                        -18.500   \n",
              "1  0.006  0.20  ...                        -99.000   \n",
              "2  0.006  0.21  ...                        -25.112   \n",
              "3  0.006  0.20  ...                        -23.525   \n",
              "4  0.006  0.20  ...                        -19.758   \n",
              "\n",
              "   After Tube Cooling Dewpoint  Rapid Jet Cooling Dewpoint  Coating Thickness  \\\n",
              "0                      -26.132                   -18.20668               1.50   \n",
              "1                      -99.000                   -98.99991               1.55   \n",
              "2                      -23.253                   -12.16960               1.48   \n",
              "3                      -27.873                   -12.54678               1.41   \n",
              "4                      -25.796                   -16.47658               1.37   \n",
              "\n",
              "   Drying Furnace Press   B50  Hardness  Coreloss-Before Aging  \\\n",
              "0                -6.026  1.73     128.0                   5.70   \n",
              "1                -6.324  1.73     120.0                   5.92   \n",
              "2                -6.512  1.72     124.0                   5.15   \n",
              "3                -6.806  1.74     121.0                   5.42   \n",
              "4                -6.831  1.72     122.0                   5.38   \n",
              "\n",
              "   Coreloss After Aging  Permeability  \n",
              "0                  5.74        1963.0  \n",
              "1                  5.92        1921.0  \n",
              "2                  5.15        1853.0  \n",
              "3                  5.47        2071.0  \n",
              "4                  5.40        1747.0  \n",
              "\n",
              "[5 rows x 40 columns]"
            ]
          },
          "execution_count": 3,
          "metadata": {},
          "output_type": "execute_result"
        }
      ],
      "source": [
        "df.head(5)"
      ]
    },
    {
      "cell_type": "code",
      "execution_count": null,
      "id": "580304cd",
      "metadata": {
        "id": "580304cd",
        "outputId": "d277a7ea-7b94-49f8-9ba3-5512091e8fec"
      },
      "outputs": [
        {
          "data": {
            "text/plain": [
              "Index(['Slab Width', 'Slab Length', 'AL', 'B', 'C', 'CA', 'NB', 'CR', 'CU',\n",
              "       'MN', 'MO', 'N', 'NI', 'P', 'S', 'SI', 'TI', 'V',\n",
              "       'Reheating Furnace Exit Temp', 'Finishing Temp', 'Coiling Temp',\n",
              "       'FM Exit Thickness', 'Coil Outr Dia', 'Avg line speed', 'weld pressure',\n",
              "       'Reduction Ratio', 'ACL-Thickness', 'ACL-Width', 'ACL-Length',\n",
              "       'O2 in Heating Element Furnace', 'Radiant Tube Furnace Dewpoint',\n",
              "       'After Tube Cooling Dewpoint', 'Rapid Jet Cooling Dewpoint',\n",
              "       'Coating Thickness', 'Drying Furnace Press', 'B50', 'Hardness',\n",
              "       'Coreloss-Before Aging', 'Coreloss After Aging', 'Permeability'],\n",
              "      dtype='object')"
            ]
          },
          "execution_count": 4,
          "metadata": {},
          "output_type": "execute_result"
        }
      ],
      "source": [
        "df.columns"
      ]
    },
    {
      "cell_type": "code",
      "execution_count": null,
      "id": "d0d6ae0d",
      "metadata": {
        "id": "d0d6ae0d"
      },
      "outputs": [],
      "source": [
        "req_col=['Slab Width', 'Slab Length', 'AL', 'B', 'C', 'CA', 'NB', 'CR', 'CU',\n",
        "       'MN', 'MO', 'N', 'NI', 'P', 'S', 'SI', 'TI', 'V',\n",
        "       'Reheating Furnace Exit Temp', 'Finishing Temp', 'Coiling Temp',\n",
        "       'FM Exit Thickness', 'Coil Outr Dia', 'Avg line speed', 'weld pressure',\n",
        "       'Reduction Ratio', 'ACL-Thickness', 'ACL-Width', 'ACL-Length',\n",
        "       'O2 in Heating Element Furnace', 'Radiant Tube Furnace Dewpoint',\n",
        "       'After Tube Cooling Dewpoint', 'Rapid Jet Cooling Dewpoint',\n",
        "       'Coating Thickness', 'Drying Furnace Press', 'B50']"
      ]
    },
    {
      "cell_type": "code",
      "execution_count": null,
      "id": "d91734d8",
      "metadata": {
        "id": "d91734d8"
      },
      "outputs": [],
      "source": [
        "df=df[req_col]"
      ]
    },
    {
      "cell_type": "code",
      "execution_count": null,
      "id": "ef7982cd",
      "metadata": {
        "id": "ef7982cd",
        "outputId": "b4dfe65d-9b33-4d31-e472-4fb004ef3fdb"
      },
      "outputs": [
        {
          "data": {
            "text/plain": [
              "Index(['Slab Width', 'Slab Length', 'AL', 'B', 'C', 'CA', 'NB', 'CR', 'CU',\n",
              "       'MN', 'MO', 'N', 'NI', 'P', 'S', 'SI', 'TI', 'V',\n",
              "       'Reheating Furnace Exit Temp', 'Finishing Temp', 'Coiling Temp',\n",
              "       'FM Exit Thickness', 'Coil Outr Dia', 'Avg line speed', 'weld pressure',\n",
              "       'Reduction Ratio', 'ACL-Thickness', 'ACL-Width', 'ACL-Length',\n",
              "       'O2 in Heating Element Furnace', 'Radiant Tube Furnace Dewpoint',\n",
              "       'After Tube Cooling Dewpoint', 'Rapid Jet Cooling Dewpoint',\n",
              "       'Coating Thickness', 'Drying Furnace Press', 'B50'],\n",
              "      dtype='object')"
            ]
          },
          "execution_count": 7,
          "metadata": {},
          "output_type": "execute_result"
        }
      ],
      "source": [
        "df.columns"
      ]
    },
    {
      "cell_type": "code",
      "execution_count": null,
      "id": "8ed2db31",
      "metadata": {
        "id": "8ed2db31"
      },
      "outputs": [],
      "source": [
        "X=df[['Slab Width', 'Slab Length', 'AL', 'B', 'C', 'CA', 'NB', 'CR', 'CU',\n",
        "       'MN', 'MO', 'N', 'NI', 'P', 'S', 'SI', 'TI', 'V',\n",
        "       'Reheating Furnace Exit Temp', 'Finishing Temp', 'Coiling Temp',\n",
        "       'FM Exit Thickness', 'Coil Outr Dia', 'Avg line speed', 'weld pressure',\n",
        "       'Reduction Ratio', 'ACL-Thickness', 'ACL-Width', 'ACL-Length',\n",
        "       'O2 in Heating Element Furnace', 'Radiant Tube Furnace Dewpoint',\n",
        "       'After Tube Cooling Dewpoint', 'Rapid Jet Cooling Dewpoint',\n",
        "       'Coating Thickness', 'Drying Furnace Press']]\n",
        "y=df[['B50']]\n"
      ]
    },
    {
      "cell_type": "code",
      "execution_count": null,
      "id": "e2bfda2e",
      "metadata": {
        "id": "e2bfda2e"
      },
      "outputs": [],
      "source": [
        "from sklearn.model_selection import train_test_split"
      ]
    },
    {
      "cell_type": "code",
      "execution_count": null,
      "id": "2998a9a9",
      "metadata": {
        "id": "2998a9a9"
      },
      "outputs": [],
      "source": [
        "X_train,X_test,y_train,y_test= train_test_split(X,y,test_size=0.2)"
      ]
    },
    {
      "cell_type": "code",
      "execution_count": null,
      "id": "07180e0c",
      "metadata": {
        "id": "07180e0c",
        "outputId": "a27478c6-5b48-4309-9f02-60bc22cef32b"
      },
      "outputs": [
        {
          "data": {
            "text/plain": [
              "(4664, 35)"
            ]
          },
          "execution_count": 16,
          "metadata": {},
          "output_type": "execute_result"
        }
      ],
      "source": [
        "X_train.shape"
      ]
    },
    {
      "cell_type": "code",
      "execution_count": null,
      "id": "eddc1575",
      "metadata": {
        "id": "eddc1575",
        "outputId": "d047b94e-f125-45ea-af6a-f431559c37f0"
      },
      "outputs": [
        {
          "data": {
            "text/plain": [
              "(1167, 35)"
            ]
          },
          "execution_count": 17,
          "metadata": {},
          "output_type": "execute_result"
        }
      ],
      "source": [
        "X_test.shape"
      ]
    },
    {
      "cell_type": "code",
      "execution_count": null,
      "id": "e6560125",
      "metadata": {
        "id": "e6560125",
        "outputId": "c98c0dc6-ed27-47f1-f7ab-345d35c71258"
      },
      "outputs": [
        {
          "data": {
            "text/plain": [
              "LinearRegression()"
            ]
          },
          "execution_count": 20,
          "metadata": {},
          "output_type": "execute_result"
        }
      ],
      "source": [
        "reg=linear_model.LinearRegression()\n",
        "reg.fit(X_train,y_train)"
      ]
    },
    {
      "cell_type": "code",
      "execution_count": null,
      "id": "5e1fda1f",
      "metadata": {
        "id": "5e1fda1f",
        "outputId": "1c7c961d-1109-4614-fd54-49af15896b9a"
      },
      "outputs": [
        {
          "data": {
            "text/plain": [
              "0.720822346871949"
            ]
          },
          "execution_count": 21,
          "metadata": {},
          "output_type": "execute_result"
        }
      ],
      "source": [
        "reg.score(X_test,y_test)"
      ]
    },
    {
      "cell_type": "code",
      "execution_count": null,
      "id": "1435ddc4",
      "metadata": {
        "id": "1435ddc4"
      },
      "outputs": [],
      "source": [
        "## Prediction for Hardness"
      ]
    },
    {
      "cell_type": "code",
      "execution_count": null,
      "id": "a1d57607",
      "metadata": {
        "id": "a1d57607"
      },
      "outputs": [],
      "source": [
        "df=pd.read_csv(r\"C:\\Users\\admin\\Desktop\\JSW\\B50\\final_1.csv\")"
      ]
    },
    {
      "cell_type": "code",
      "execution_count": null,
      "id": "a67ba76d",
      "metadata": {
        "id": "a67ba76d",
        "outputId": "a0067d09-b046-46f0-bd19-0df38b03ed2a"
      },
      "outputs": [
        {
          "data": {
            "text/plain": [
              "Index(['Slab Width', 'Slab Length', 'AL', 'B', 'C', 'CA', 'NB', 'CR', 'CU',\n",
              "       'MN', 'MO', 'N', 'NI', 'P', 'S', 'SI', 'TI', 'V',\n",
              "       'Reheating Furnace Exit Temp', 'Finishing Temp', 'Coiling Temp',\n",
              "       'FM Exit Thickness', 'Coil Outr Dia', 'Avg line speed', 'weld pressure',\n",
              "       'Reduction Ratio', 'ACL-Thickness', 'ACL-Width', 'ACL-Length',\n",
              "       'O2 in Heating Element Furnace', 'Radiant Tube Furnace Dewpoint',\n",
              "       'After Tube Cooling Dewpoint', 'Rapid Jet Cooling Dewpoint',\n",
              "       'Coating Thickness', 'Drying Furnace Press', 'B50', 'Hardness',\n",
              "       'Coreloss-Before Aging', 'Coreloss After Aging', 'Permeability'],\n",
              "      dtype='object')"
            ]
          },
          "execution_count": 29,
          "metadata": {},
          "output_type": "execute_result"
        }
      ],
      "source": [
        "df.columns"
      ]
    },
    {
      "cell_type": "code",
      "execution_count": null,
      "id": "81432e94",
      "metadata": {
        "id": "81432e94"
      },
      "outputs": [],
      "source": [
        "col_req=['Slab Width', 'Slab Length', 'AL', 'B', 'C', 'CA', 'NB', 'CR', 'CU',\n",
        "       'MN', 'MO', 'N', 'NI', 'P', 'S', 'SI', 'TI', 'V',\n",
        "       'Reheating Furnace Exit Temp', 'Finishing Temp', 'Coiling Temp',\n",
        "       'FM Exit Thickness', 'Coil Outr Dia', 'Avg line speed', 'weld pressure',\n",
        "       'Reduction Ratio', 'ACL-Thickness', 'ACL-Width', 'ACL-Length',\n",
        "       'O2 in Heating Element Furnace', 'Radiant Tube Furnace Dewpoint',\n",
        "       'After Tube Cooling Dewpoint', 'Rapid Jet Cooling Dewpoint',\n",
        "       'Coating Thickness', 'Drying Furnace Press', 'Hardness']"
      ]
    },
    {
      "cell_type": "code",
      "execution_count": null,
      "id": "e00b00bd",
      "metadata": {
        "id": "e00b00bd"
      },
      "outputs": [],
      "source": [
        "df=df[col_req]"
      ]
    },
    {
      "cell_type": "code",
      "execution_count": null,
      "id": "08d312db",
      "metadata": {
        "id": "08d312db"
      },
      "outputs": [],
      "source": [
        "X=df[['Slab Width', 'Slab Length', 'AL', 'B', 'C', 'CA', 'NB', 'CR', 'CU',\n",
        "       'MN', 'MO', 'N', 'NI', 'P', 'S', 'SI', 'TI', 'V',\n",
        "       'Reheating Furnace Exit Temp', 'Finishing Temp', 'Coiling Temp',\n",
        "       'FM Exit Thickness', 'Coil Outr Dia', 'Avg line speed', 'weld pressure',\n",
        "       'Reduction Ratio', 'ACL-Thickness', 'ACL-Width', 'ACL-Length',\n",
        "       'O2 in Heating Element Furnace', 'Radiant Tube Furnace Dewpoint',\n",
        "       'After Tube Cooling Dewpoint', 'Rapid Jet Cooling Dewpoint',\n",
        "       'Coating Thickness', 'Drying Furnace Press']]\n",
        "y=df[['Hardness']]"
      ]
    },
    {
      "cell_type": "code",
      "execution_count": null,
      "id": "844a3696",
      "metadata": {
        "id": "844a3696"
      },
      "outputs": [],
      "source": [
        "from sklearn.model_selection import train_test_split\n"
      ]
    },
    {
      "cell_type": "code",
      "execution_count": null,
      "id": "ea56212b",
      "metadata": {
        "id": "ea56212b"
      },
      "outputs": [],
      "source": [
        "X_train,X_test,y_tain,y_test=train_test_split(X,y,test_size=0.2)"
      ]
    },
    {
      "cell_type": "code",
      "execution_count": null,
      "id": "210b9aa1",
      "metadata": {
        "id": "210b9aa1",
        "outputId": "24d75508-8fe4-4a84-e967-f8fa2a983cca"
      },
      "outputs": [
        {
          "data": {
            "text/plain": [
              "(4664, 35)"
            ]
          },
          "execution_count": 39,
          "metadata": {},
          "output_type": "execute_result"
        }
      ],
      "source": [
        "X_train.shape"
      ]
    },
    {
      "cell_type": "code",
      "execution_count": null,
      "id": "5b593aec",
      "metadata": {
        "id": "5b593aec",
        "outputId": "4f70e66f-cd03-483a-ab49-a4240b0e2a7d"
      },
      "outputs": [
        {
          "data": {
            "text/plain": [
              "(1167, 35)"
            ]
          },
          "execution_count": 40,
          "metadata": {},
          "output_type": "execute_result"
        }
      ],
      "source": [
        "X_test.shape"
      ]
    },
    {
      "cell_type": "code",
      "execution_count": null,
      "id": "89968803",
      "metadata": {
        "id": "89968803"
      },
      "outputs": [],
      "source": [
        "reg=linear_model.LinearRegression()"
      ]
    },
    {
      "cell_type": "code",
      "execution_count": null,
      "id": "0ae3281a",
      "metadata": {
        "id": "0ae3281a",
        "outputId": "0ebafbcd-ace0-4cb2-8f66-d78524f6696b"
      },
      "outputs": [
        {
          "data": {
            "text/plain": [
              "LinearRegression()"
            ]
          },
          "execution_count": 42,
          "metadata": {},
          "output_type": "execute_result"
        }
      ],
      "source": [
        "reg.fit(X_train,y_train)"
      ]
    },
    {
      "cell_type": "code",
      "execution_count": null,
      "id": "8a9aeceb",
      "metadata": {
        "id": "8a9aeceb",
        "outputId": "2a3e53a4-c3ad-4a19-a830-b50b01154788"
      },
      "outputs": [
        {
          "data": {
            "text/plain": [
              "-59.60253317765112"
            ]
          },
          "execution_count": 45,
          "metadata": {},
          "output_type": "execute_result"
        }
      ],
      "source": [
        "reg.score(X_test,y_test)"
      ]
    },
    {
      "cell_type": "code",
      "execution_count": null,
      "id": "fb96274d",
      "metadata": {
        "id": "fb96274d"
      },
      "outputs": [],
      "source": [
        "### Core Loss After Aging "
      ]
    },
    {
      "cell_type": "code",
      "execution_count": null,
      "id": "e99c40e1",
      "metadata": {
        "id": "e99c40e1"
      },
      "outputs": [],
      "source": [
        "df=pd.read_csv(\"final_1.csv\")"
      ]
    },
    {
      "cell_type": "code",
      "execution_count": null,
      "id": "e2ae9bc9",
      "metadata": {
        "id": "e2ae9bc9",
        "outputId": "ffcc92d5-210e-43b4-f8af-874d68746e1b"
      },
      "outputs": [
        {
          "data": {
            "text/plain": [
              "Index(['Slab Width', 'Slab Length', 'AL', 'B', 'C', 'CA', 'NB', 'CR', 'CU',\n",
              "       'MN', 'MO', 'N', 'NI', 'P', 'S', 'SI', 'TI', 'V',\n",
              "       'Reheating Furnace Exit Temp', 'Finishing Temp', 'Coiling Temp',\n",
              "       'FM Exit Thickness', 'Coil Outr Dia', 'Avg line speed', 'weld pressure',\n",
              "       'Reduction Ratio', 'ACL-Thickness', 'ACL-Width', 'ACL-Length',\n",
              "       'O2 in Heating Element Furnace', 'Radiant Tube Furnace Dewpoint',\n",
              "       'After Tube Cooling Dewpoint', 'Rapid Jet Cooling Dewpoint',\n",
              "       'Coating Thickness', 'Drying Furnace Press', 'B50', 'Hardness',\n",
              "       'Coreloss-Before Aging', 'Coreloss After Aging', 'Permeability'],\n",
              "      dtype='object')"
            ]
          },
          "execution_count": 48,
          "metadata": {},
          "output_type": "execute_result"
        }
      ],
      "source": [
        "df.columns"
      ]
    },
    {
      "cell_type": "code",
      "execution_count": null,
      "id": "f62c7ced",
      "metadata": {
        "id": "f62c7ced"
      },
      "outputs": [],
      "source": [
        "req_col=['Slab Width', 'Slab Length', 'AL', 'B', 'C', 'CA', 'NB', 'CR', 'CU',\n",
        "       'MN', 'MO', 'N', 'NI', 'P', 'S', 'SI', 'TI', 'V',\n",
        "       'Reheating Furnace Exit Temp', 'Finishing Temp', 'Coiling Temp',\n",
        "       'FM Exit Thickness', 'Coil Outr Dia', 'Avg line speed', 'weld pressure',\n",
        "       'Reduction Ratio', 'ACL-Thickness', 'ACL-Width', 'ACL-Length',\n",
        "       'O2 in Heating Element Furnace', 'Radiant Tube Furnace Dewpoint',\n",
        "       'After Tube Cooling Dewpoint', 'Rapid Jet Cooling Dewpoint',\n",
        "       'Coating Thickness', 'Drying Furnace Press','Coreloss-Before Aging']"
      ]
    },
    {
      "cell_type": "code",
      "execution_count": null,
      "id": "6f4aadae",
      "metadata": {
        "id": "6f4aadae"
      },
      "outputs": [],
      "source": [
        "df=df[req_col]"
      ]
    },
    {
      "cell_type": "code",
      "execution_count": null,
      "id": "d89d4169",
      "metadata": {
        "id": "d89d4169"
      },
      "outputs": [],
      "source": [
        "X=df[['Slab Width', 'Slab Length', 'AL', 'B', 'C', 'CA', 'NB', 'CR', 'CU',\n",
        "       'MN', 'MO', 'N', 'NI', 'P', 'S', 'SI', 'TI', 'V',\n",
        "       'Reheating Furnace Exit Temp', 'Finishing Temp', 'Coiling Temp',\n",
        "       'FM Exit Thickness', 'Coil Outr Dia', 'Avg line speed', 'weld pressure',\n",
        "       'Reduction Ratio', 'ACL-Thickness', 'ACL-Width', 'ACL-Length',\n",
        "       'O2 in Heating Element Furnace', 'Radiant Tube Furnace Dewpoint',\n",
        "       'After Tube Cooling Dewpoint', 'Rapid Jet Cooling Dewpoint',\n",
        "       'Coating Thickness', 'Drying Furnace Press']]\n",
        "y=df[['Coreloss-Before Aging']]"
      ]
    },
    {
      "cell_type": "code",
      "execution_count": null,
      "id": "80a6b93c",
      "metadata": {
        "id": "80a6b93c"
      },
      "outputs": [],
      "source": [
        "from sklearn.model_selection import train_test_split"
      ]
    },
    {
      "cell_type": "code",
      "execution_count": null,
      "id": "e68a66a3",
      "metadata": {
        "id": "e68a66a3"
      },
      "outputs": [],
      "source": [
        "X_train,X_test,y_train,y_test=train_test_split(X,y,test_size=0.2)"
      ]
    },
    {
      "cell_type": "code",
      "execution_count": null,
      "id": "a3ffe12e",
      "metadata": {
        "id": "a3ffe12e"
      },
      "outputs": [],
      "source": [
        "reg=linear_model.LinearRegression()"
      ]
    },
    {
      "cell_type": "code",
      "execution_count": null,
      "id": "488ec36f",
      "metadata": {
        "id": "488ec36f",
        "outputId": "40a8de27-664b-4281-8999-7c602793113e"
      },
      "outputs": [
        {
          "data": {
            "text/plain": [
              "LinearRegression()"
            ]
          },
          "execution_count": 57,
          "metadata": {},
          "output_type": "execute_result"
        }
      ],
      "source": [
        "reg.fit(X_train,y_train)"
      ]
    },
    {
      "cell_type": "code",
      "execution_count": null,
      "id": "ecf9fef4",
      "metadata": {
        "id": "ecf9fef4",
        "outputId": "5e2fc308-4890-4737-c9df-d1b82743896d"
      },
      "outputs": [
        {
          "data": {
            "text/plain": [
              "0.8906368449277637"
            ]
          },
          "execution_count": 59,
          "metadata": {},
          "output_type": "execute_result"
        }
      ],
      "source": [
        "reg.score(X_test,y_test)"
      ]
    },
    {
      "cell_type": "code",
      "execution_count": null,
      "id": "9f281f2f",
      "metadata": {
        "id": "9f281f2f"
      },
      "outputs": [],
      "source": [
        "### Core Loss Before Aging "
      ]
    },
    {
      "cell_type": "code",
      "execution_count": null,
      "id": "7018224e",
      "metadata": {
        "id": "7018224e"
      },
      "outputs": [],
      "source": [
        "df=pd.read_csv(\"final_1.csv\")"
      ]
    },
    {
      "cell_type": "code",
      "execution_count": null,
      "id": "d169e4ad",
      "metadata": {
        "id": "d169e4ad",
        "outputId": "81b519b0-c14c-4d39-ddec-d463b3758dfd"
      },
      "outputs": [
        {
          "data": {
            "text/plain": [
              "Index(['Slab Width', 'Slab Length', 'AL', 'B', 'C', 'CA', 'NB', 'CR', 'CU',\n",
              "       'MN', 'MO', 'N', 'NI', 'P', 'S', 'SI', 'TI', 'V',\n",
              "       'Reheating Furnace Exit Temp', 'Finishing Temp', 'Coiling Temp',\n",
              "       'FM Exit Thickness', 'Coil Outr Dia', 'Avg line speed', 'weld pressure',\n",
              "       'Reduction Ratio', 'ACL-Thickness', 'ACL-Width', 'ACL-Length',\n",
              "       'O2 in Heating Element Furnace', 'Radiant Tube Furnace Dewpoint',\n",
              "       'After Tube Cooling Dewpoint', 'Rapid Jet Cooling Dewpoint',\n",
              "       'Coating Thickness', 'Drying Furnace Press', 'B50', 'Hardness',\n",
              "       'Coreloss-Before Aging', 'Coreloss After Aging', 'Permeability'],\n",
              "      dtype='object')"
            ]
          },
          "execution_count": 62,
          "metadata": {},
          "output_type": "execute_result"
        }
      ],
      "source": [
        "df.columns"
      ]
    },
    {
      "cell_type": "code",
      "execution_count": null,
      "id": "db8b3b9b",
      "metadata": {
        "id": "db8b3b9b"
      },
      "outputs": [],
      "source": [
        "req_col=['Slab Width', 'Slab Length', 'AL', 'B', 'C', 'CA', 'NB', 'CR', 'CU',\n",
        "       'MN', 'MO', 'N', 'NI', 'P', 'S', 'SI', 'TI', 'V',\n",
        "       'Reheating Furnace Exit Temp', 'Finishing Temp', 'Coiling Temp',\n",
        "       'FM Exit Thickness', 'Coil Outr Dia', 'Avg line speed', 'weld pressure',\n",
        "       'Reduction Ratio', 'ACL-Thickness', 'ACL-Width', 'ACL-Length',\n",
        "       'O2 in Heating Element Furnace', 'Radiant Tube Furnace Dewpoint',\n",
        "       'After Tube Cooling Dewpoint', 'Rapid Jet Cooling Dewpoint',\n",
        "       'Coating Thickness', 'Drying Furnace Press', 'Coreloss After Aging']"
      ]
    },
    {
      "cell_type": "code",
      "execution_count": null,
      "id": "9eb0f29f",
      "metadata": {
        "id": "9eb0f29f"
      },
      "outputs": [],
      "source": [
        "df=df[req_col]\n"
      ]
    },
    {
      "cell_type": "code",
      "execution_count": null,
      "id": "b77af3c0",
      "metadata": {
        "id": "b77af3c0"
      },
      "outputs": [],
      "source": [
        "X=df[['Slab Width', 'Slab Length', 'AL', 'B', 'C', 'CA', 'NB', 'CR', 'CU',\n",
        "       'MN', 'MO', 'N', 'NI', 'P', 'S', 'SI', 'TI', 'V',\n",
        "       'Reheating Furnace Exit Temp', 'Finishing Temp', 'Coiling Temp',\n",
        "       'FM Exit Thickness', 'Coil Outr Dia', 'Avg line speed', 'weld pressure',\n",
        "       'Reduction Ratio', 'ACL-Thickness', 'ACL-Width', 'ACL-Length',\n",
        "       'O2 in Heating Element Furnace', 'Radiant Tube Furnace Dewpoint',\n",
        "       'After Tube Cooling Dewpoint', 'Rapid Jet Cooling Dewpoint',\n",
        "       'Coating Thickness', 'Drying Furnace Press']]\n",
        "y=df[['Coreloss After Aging']]"
      ]
    },
    {
      "cell_type": "code",
      "execution_count": null,
      "id": "ecd86588",
      "metadata": {
        "id": "ecd86588"
      },
      "outputs": [],
      "source": [
        "from sklearn.model_selection import train_test_split\n",
        "X_train,X_test,y_train,y_test= train_test_split(X,y,test_size=0.2)"
      ]
    },
    {
      "cell_type": "code",
      "execution_count": null,
      "id": "1455d4aa",
      "metadata": {
        "id": "1455d4aa"
      },
      "outputs": [],
      "source": [
        "reg=linear_model.LinearRegression()"
      ]
    },
    {
      "cell_type": "code",
      "execution_count": null,
      "id": "4d990985",
      "metadata": {
        "id": "4d990985",
        "outputId": "86b236bb-0e5f-4a10-c055-3cb4cb2a06c7"
      },
      "outputs": [
        {
          "data": {
            "text/plain": [
              "LinearRegression()"
            ]
          },
          "execution_count": 73,
          "metadata": {},
          "output_type": "execute_result"
        }
      ],
      "source": [
        "reg.fit(X_train,y_train)"
      ]
    },
    {
      "cell_type": "code",
      "execution_count": null,
      "id": "b14ed00d",
      "metadata": {
        "id": "b14ed00d",
        "outputId": "4124b307-f1b2-4f64-c35b-9cde541d23b4"
      },
      "outputs": [
        {
          "data": {
            "text/plain": [
              "0.8832215177908262"
            ]
          },
          "execution_count": 74,
          "metadata": {},
          "output_type": "execute_result"
        }
      ],
      "source": [
        "reg.score(X_test,y_test)"
      ]
    },
    {
      "cell_type": "code",
      "execution_count": null,
      "id": "9b11a7a5",
      "metadata": {
        "id": "9b11a7a5"
      },
      "outputs": [],
      "source": [
        "### Prediction for Permeability"
      ]
    },
    {
      "cell_type": "code",
      "execution_count": null,
      "id": "b8b9b17a",
      "metadata": {
        "id": "b8b9b17a"
      },
      "outputs": [],
      "source": [
        "df=pd.read_csv(\"final_1.csv\")"
      ]
    },
    {
      "cell_type": "code",
      "execution_count": null,
      "id": "f8b4b00f",
      "metadata": {
        "id": "f8b4b00f",
        "outputId": "aa999e37-8210-4945-c148-83a67f45999f"
      },
      "outputs": [
        {
          "data": {
            "text/plain": [
              "Index(['Slab Width', 'Slab Length', 'AL', 'B', 'C', 'CA', 'NB', 'CR', 'CU',\n",
              "       'MN', 'MO', 'N', 'NI', 'P', 'S', 'SI', 'TI', 'V',\n",
              "       'Reheating Furnace Exit Temp', 'Finishing Temp', 'Coiling Temp',\n",
              "       'FM Exit Thickness', 'Coil Outr Dia', 'Avg line speed', 'weld pressure',\n",
              "       'Reduction Ratio', 'ACL-Thickness', 'ACL-Width', 'ACL-Length',\n",
              "       'O2 in Heating Element Furnace', 'Radiant Tube Furnace Dewpoint',\n",
              "       'After Tube Cooling Dewpoint', 'Rapid Jet Cooling Dewpoint',\n",
              "       'Coating Thickness', 'Drying Furnace Press', 'B50', 'Hardness',\n",
              "       'Coreloss-Before Aging', 'Coreloss After Aging', 'Permeability'],\n",
              "      dtype='object')"
            ]
          },
          "execution_count": 78,
          "metadata": {},
          "output_type": "execute_result"
        }
      ],
      "source": [
        "df.columns"
      ]
    },
    {
      "cell_type": "code",
      "execution_count": null,
      "id": "2698b1e0",
      "metadata": {
        "id": "2698b1e0"
      },
      "outputs": [],
      "source": [
        "req_col=['Slab Width', 'Slab Length', 'AL', 'B', 'C', 'CA', 'NB', 'CR', 'CU',\n",
        "       'MN', 'MO', 'N', 'NI', 'P', 'S', 'SI', 'TI', 'V',\n",
        "       'Reheating Furnace Exit Temp', 'Finishing Temp', 'Coiling Temp',\n",
        "       'FM Exit Thickness', 'Coil Outr Dia', 'Avg line speed', 'weld pressure',\n",
        "       'Reduction Ratio', 'ACL-Thickness', 'ACL-Width', 'ACL-Length',\n",
        "       'O2 in Heating Element Furnace', 'Radiant Tube Furnace Dewpoint',\n",
        "       'After Tube Cooling Dewpoint', 'Rapid Jet Cooling Dewpoint',\n",
        "       'Coating Thickness', 'Drying Furnace Press', 'Permeability']"
      ]
    },
    {
      "cell_type": "code",
      "execution_count": null,
      "id": "6b46a70e",
      "metadata": {
        "id": "6b46a70e"
      },
      "outputs": [],
      "source": [
        "df=df[req_col]"
      ]
    },
    {
      "cell_type": "code",
      "execution_count": null,
      "id": "6a2f265e",
      "metadata": {
        "id": "6a2f265e"
      },
      "outputs": [],
      "source": [
        "X=df[['Slab Width', 'Slab Length', 'AL', 'B', 'C', 'CA', 'NB', 'CR', 'CU',\n",
        "       'MN', 'MO', 'N', 'NI', 'P', 'S', 'SI', 'TI', 'V',\n",
        "       'Reheating Furnace Exit Temp', 'Finishing Temp', 'Coiling Temp',\n",
        "       'FM Exit Thickness', 'Coil Outr Dia', 'Avg line speed', 'weld pressure',\n",
        "       'Reduction Ratio', 'ACL-Thickness', 'ACL-Width', 'ACL-Length',\n",
        "       'O2 in Heating Element Furnace', 'Radiant Tube Furnace Dewpoint',\n",
        "       'After Tube Cooling Dewpoint', 'Rapid Jet Cooling Dewpoint',\n",
        "       'Coating Thickness', 'Drying Furnace Press']]\n",
        "y=df['Permeability']"
      ]
    },
    {
      "cell_type": "code",
      "execution_count": null,
      "id": "5860d609",
      "metadata": {
        "id": "5860d609"
      },
      "outputs": [],
      "source": [
        "from sklearn.model_selection import train_test_split\n",
        "X_train,X_test,y_train,y_test=train_test_split(X,y,test_size=0.2)"
      ]
    },
    {
      "cell_type": "code",
      "execution_count": null,
      "id": "1901d178",
      "metadata": {
        "id": "1901d178"
      },
      "outputs": [],
      "source": [
        "reg=linear_model.LinearRegression()"
      ]
    },
    {
      "cell_type": "code",
      "execution_count": null,
      "id": "ba0c7e12",
      "metadata": {
        "id": "ba0c7e12",
        "outputId": "68c617de-9bea-42fd-9004-f6ed303c39a8"
      },
      "outputs": [
        {
          "data": {
            "text/plain": [
              "LinearRegression()"
            ]
          },
          "execution_count": 85,
          "metadata": {},
          "output_type": "execute_result"
        }
      ],
      "source": [
        "reg.fit(X_train,y_train)"
      ]
    },
    {
      "cell_type": "code",
      "execution_count": null,
      "id": "a6b9e88c",
      "metadata": {
        "id": "a6b9e88c",
        "outputId": "a0b766e1-2261-44d1-ef30-f4aba53c8e3d"
      },
      "outputs": [
        {
          "data": {
            "text/plain": [
              "0.7532335757696832"
            ]
          },
          "execution_count": 86,
          "metadata": {},
          "output_type": "execute_result"
        }
      ],
      "source": [
        "reg.score(X_test,y_test)"
      ]
    },
    {
      "cell_type": "code",
      "execution_count": null,
      "id": "7083fa67",
      "metadata": {
        "id": "7083fa67"
      },
      "outputs": [],
      "source": [
        ""
      ]
    }
  ],
  "metadata": {
    "kernelspec": {
      "display_name": "Python 3",
      "language": "python",
      "name": "python3"
    },
    "language_info": {
      "codemirror_mode": {
        "name": "ipython",
        "version": 3
      },
      "file_extension": ".py",
      "mimetype": "text/x-python",
      "name": "python",
      "nbconvert_exporter": "python",
      "pygments_lexer": "ipython3",
      "version": "3.8.8"
    },
    "colab": {
      "name": "MLR.ipynb",
      "provenance": [],
      "include_colab_link": true
    }
  },
  "nbformat": 4,
  "nbformat_minor": 5
}